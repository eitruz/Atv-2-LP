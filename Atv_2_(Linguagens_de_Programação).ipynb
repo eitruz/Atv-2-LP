{
  "nbformat": 4,
  "nbformat_minor": 0,
  "metadata": {
    "colab": {
      "provenance": [],
      "collapsed_sections": []
    },
    "kernelspec": {
      "name": "python3",
      "display_name": "Python 3"
    },
    "language_info": {
      "name": "python"
    }
  },
  "cells": [
    {
      "cell_type": "code",
      "execution_count": null,
      "metadata": {
        "cellView": "form",
        "id": "pniJ_5X_3v7l"
      },
      "outputs": [],
      "source": [
        "#@markdown <h1> Questão 1 </h1>\n",
        "\n",
        "anos = 365\n",
        "meses = 30\n",
        "\n",
        "\n",
        "idade = int (input(\"Digite sua idade em dias: \"))\n",
        "\n",
        "qntanos = (idade // anos)\n",
        "qntmeses = ((idade // meses) - (qntanos*anos//30))\n",
        "qntdias = abs((idade - (qntmeses*meses) - (qntanos*anos)))\n",
        "\n",
        "print(\"\\n\\nSua idade em dias, meses e anos é, respectivamente: \", qntdias, \"dias, \", qntmeses, \"meses e \", qntanos, \"anos\")\n",
        "print(\"O total de dias da idade é: \", idade)"
      ]
    },
    {
      "cell_type": "code",
      "source": [
        "#@markdown <h1> Questão 2 </h1>\n",
        "\n",
        "import math\n",
        "\n",
        "\n",
        "ladoA = int(input(\"Digite o primeiro lado do triangulo: \"))\n",
        "ladoB = int(input(\"Digite o segundo lado do triangulo: \"))\n",
        "ladoC = int(input(\"Digite o terceiro lado do triangulo: \"))\n",
        "\n",
        "\n",
        "if ((ladoA < (ladoB + ladoC)) & (ladoA > abs((ladoB - ladoC)))):\n",
        "  p = (ladoA+ladoB+ladoC)/2\n",
        "  area = math.sqrt(p * (p - ladoA) * (p - ladoB) * (p - ladoC))\n",
        "  print(\"\\n\\nA área do triangulo formado é de: \", area)\n",
        "\n",
        "elif ((ladoB < (ladoA + ladoC)) & (ladoB > abs((ladoA - ladoC)))):\n",
        "  p = (ladoA+ladoB+ladoC)/2\n",
        "  area = math.sqrt(p * (p - ladoA) * (p - ladoB) * (p - ladoC))\n",
        "  print(\"\\n\\nA área do triangulo formado é de: \", area)\n",
        "\n",
        "elif ((ladoC < (ladoA + ladoB)) & (ladoC > abs((ladoA - ladoB)))):\n",
        "  p = (ladoA+ladoB+ladoC)/2\n",
        "  area = math.sqrt(p * (p - ladoA) * (p - ladoB) * (p - ladoC))\n",
        "  print(\"\\n\\nA área do triangulo formado é de: \", area)\n",
        "\n",
        "else:\n",
        "  print(\"\\n\\nOs tamanhos dos lados não formam um triângulo\")"
      ],
      "metadata": {
        "id": "_QlwHzMtN0qK"
      },
      "execution_count": null,
      "outputs": []
    },
    {
      "cell_type": "code",
      "source": [
        "#@markdown <h1> Questão 3 </h1>\n",
        "\n",
        "\n",
        "numA = int (input(\"Digite o primeiro numero: \"))\n",
        "numB = int (input(\"Digite o segundo numero: \"))\n",
        "numC = int (input(\"Digite o terceiro numero: \"))\n",
        "\n",
        "if ((numA < numB) & (numA < numC)):\n",
        "  print(\"O menor numero é: \", numA)\n",
        "\n",
        "elif ((numB < numA) & (numB < numC)):\n",
        "  print(\"O menor numero é: \", numB)\n",
        "\n",
        "else:\n",
        "  print(\"\\n\\nO menor numero é: \", numC)"
      ],
      "metadata": {
        "cellView": "form",
        "id": "1RGeeoveUq8T"
      },
      "execution_count": null,
      "outputs": []
    },
    {
      "cell_type": "code",
      "source": [
        "#@markdown <h1> Questão 4 </h1>\n",
        "\n",
        "num = int (input(\"Digite um numero: \"))\n",
        "\n",
        "teste = 0\n",
        "resto = 1\n",
        "divisor = 1\n",
        "\n",
        "\n",
        "if (num > 1):\n",
        "  while (divisor <= num):    \n",
        "    resto = num % divisor\n",
        "\n",
        "    if (resto == 0):\n",
        "      teste +=1\n",
        "   \n",
        "    if (teste == 2):\n",
        "      primo = True   \n",
        "\n",
        "    else:\n",
        "      primo = False\n",
        "     \n",
        "    divisor += 1\n",
        "\n",
        "  \n",
        "        \n",
        "  if (primo == True):\n",
        "    print(\"\\n\\nO numero \", num, \"é primo\")  \n",
        "  \n",
        "  else:\n",
        "    print(\"\\n\\nO numero \", num, \"NÃO é primo\")\n",
        "\n",
        "\n",
        "else:\n",
        "  print(\"\\n\\nDigite um número maior que 1\")"
      ],
      "metadata": {
        "id": "RxeJqFZAWUEk"
      },
      "execution_count": null,
      "outputs": []
    },
    {
      "cell_type": "code",
      "source": [
        "#@markdown <h1> Questão 5 </h1>\n",
        "\n",
        "import re\n",
        "\n",
        "\n",
        "def inverte(palavra):\n",
        "    if re.match(r'^\\w+$', palavra):\n",
        "        return palavra[::-1]\n",
        "    return palavra\n",
        "\n",
        "frase = input(\"Digite uma frase: \")\n",
        "\n",
        "invertida = ''.join(inverte(palavra) for palavra in re.split(r'(\\W+)', frase))\n",
        "print(\"\\n\\n\", invertida)"
      ],
      "metadata": {
        "cellView": "form",
        "id": "exeo0NF7k3zI"
      },
      "execution_count": null,
      "outputs": []
    }
  ]
}